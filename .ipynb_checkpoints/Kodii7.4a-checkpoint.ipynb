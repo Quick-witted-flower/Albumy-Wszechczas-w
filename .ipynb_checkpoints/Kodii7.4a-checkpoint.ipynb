{
 "cells": [
  {
   "cell_type": "code",
   "execution_count": 5,
   "id": "ba54cc09-02e7-4bb3-b8e9-81dce900efe5",
   "metadata": {},
   "outputs": [
    {
     "name": "stdout",
     "output_type": "stream",
     "text": [
      "[0.  0.1 0.2 0.3 0.4 0.5 0.6 0.7 0.8 0.9]\n"
     ]
    }
   ],
   "source": [
    "import numpy as np\n",
    "vector = np.linspace(0, 1, 10, endpoint=False)\n",
    "print(vector)\n"
   ]
  },
  {
   "cell_type": "markdown",
   "id": "0720e4d1-52ad-45d6-b877-53bd048c53d4",
   "metadata": {},
   "source": [
    "1.Stwórz dziesięcioelementowy wektor z przedziału od 0 do 1, bez uwzględniania wartości granicznych.\r\n"
   ]
  }
 ],
 "metadata": {
  "kernelspec": {
   "display_name": "Python 3 (ipykernel)",
   "language": "python",
   "name": "python3"
  },
  "language_info": {
   "codemirror_mode": {
    "name": "ipython",
    "version": 3
   },
   "file_extension": ".py",
   "mimetype": "text/x-python",
   "name": "python",
   "nbconvert_exporter": "python",
   "pygments_lexer": "ipython3",
   "version": "3.12.4"
  }
 },
 "nbformat": 4,
 "nbformat_minor": 5
}
