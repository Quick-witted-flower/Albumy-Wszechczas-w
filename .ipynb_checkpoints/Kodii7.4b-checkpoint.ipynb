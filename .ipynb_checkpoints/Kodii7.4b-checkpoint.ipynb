{
 "cells": [
  {
   "cell_type": "code",
   "execution_count": 3,
   "id": "3c7c82f8-23a8-4d3d-8053-f9cb7b21ea83",
   "metadata": {},
   "outputs": [
    {
     "name": "stdout",
     "output_type": "stream",
     "text": [
      "[[0 1 2 3 4]\n",
      " [0 1 2 3 4]\n",
      " [0 1 2 3 4]\n",
      " [0 1 2 3 4]\n",
      " [0 1 2 3 4]]\n"
     ]
    }
   ],
   "source": [
    "import numpy as np\n",
    "matrix = np.tile(np.arange(5), (5, 1))\n",
    "print(matrix)\n",
    "\n"
   ]
  },
  {
   "cell_type": "markdown",
   "id": "b26f5672-02b4-4bda-9b54-4180324297a6",
   "metadata": {},
   "source": [
    " Stworzenie macierzy 5x5, której wiersze mają stałe wartości, a kolumny wynoszą 0, 1, 2, 3, 4"
   ]
  },
  {
   "cell_type": "markdown",
   "id": "f6d113e7-a648-4bb5-8753-a253cec98e20",
   "metadata": {},
   "source": [
    "np.arange(5): Ta funkcja tworzy tablicę jednowymiarową z wartościami od 0 do 4 (czyli [0, 1, 2, 3, 4]).\n",
    "np.tile(array, (m, n)): Ta funkcja powiela wartości tablicy w układzie m x n. W naszym przypadku:\n",
    "(5, 1) oznacza, że powielimy wektor [0, 1, 2, 3, 4] w taki sposób, że uzyskamy 5 wierszy, każdy zawierający te same wartości."
   ]
  },
  {
   "cell_type": "markdown",
   "id": "51a3d423-299f-4805-9d70-06b5b51f392e",
   "metadata": {},
   "source": [
    "Macierz 5x5, gdzie wiersze mają stałe wartości, a kolumny wynoszą 0, 1, 2, 3, 4:\n",
    "Użyliśmy np.arange() do stworzenia wektora z wartościami 0-4 i np.tile() do powielenia go w 5 wierszach."
   ]
  }
 ],
 "metadata": {
  "kernelspec": {
   "display_name": "Python 3 (ipykernel)",
   "language": "python",
   "name": "python3"
  },
  "language_info": {
   "codemirror_mode": {
    "name": "ipython",
    "version": 3
   },
   "file_extension": ".py",
   "mimetype": "text/x-python",
   "name": "python",
   "nbconvert_exporter": "python",
   "pygments_lexer": "ipython3",
   "version": "3.12.4"
  }
 },
 "nbformat": 4,
 "nbformat_minor": 5
}
