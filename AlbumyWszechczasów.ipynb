{
 "cells": [
  {
   "cell_type": "code",
   "execution_count": 10,
   "id": "e5396c1c-ac1e-4c90-9f16-8d814f09ce81",
   "metadata": {},
   "outputs": [
    {
     "data": {
      "text/html": [
       "<div>\n",
       "<style scoped>\n",
       "    .dataframe tbody tr th:only-of-type {\n",
       "        vertical-align: middle;\n",
       "    }\n",
       "\n",
       "    .dataframe tbody tr th {\n",
       "        vertical-align: top;\n",
       "    }\n",
       "\n",
       "    .dataframe thead th {\n",
       "        text-align: right;\n",
       "    }\n",
       "</style>\n",
       "<table border=\"1\" class=\"dataframe\">\n",
       "  <thead>\n",
       "    <tr style=\"text-align: right;\">\n",
       "      <th></th>\n",
       "      <th>POS</th>\n",
       "      <th>TITLE</th>\n",
       "      <th>ARTIST</th>\n",
       "      <th>YEAR</th>\n",
       "      <th>HIGH POSN</th>\n",
       "    </tr>\n",
       "  </thead>\n",
       "  <tbody>\n",
       "    <tr>\n",
       "      <th>0</th>\n",
       "      <td>1</td>\n",
       "      <td>GREATEST HITS</td>\n",
       "      <td>QUEEN</td>\n",
       "      <td>1981</td>\n",
       "      <td>1</td>\n",
       "    </tr>\n",
       "    <tr>\n",
       "      <th>1</th>\n",
       "      <td>2</td>\n",
       "      <td>GOLD - GREATEST HITS</td>\n",
       "      <td>ABBA</td>\n",
       "      <td>1992</td>\n",
       "      <td>1</td>\n",
       "    </tr>\n",
       "    <tr>\n",
       "      <th>2</th>\n",
       "      <td>3</td>\n",
       "      <td>SGT PEPPER'S LONELY HEARTS CLUB BAND</td>\n",
       "      <td>BEATLES</td>\n",
       "      <td>1967</td>\n",
       "      <td>1</td>\n",
       "    </tr>\n",
       "    <tr>\n",
       "      <th>3</th>\n",
       "      <td>4</td>\n",
       "      <td>21</td>\n",
       "      <td>ADELE</td>\n",
       "      <td>2011</td>\n",
       "      <td>1</td>\n",
       "    </tr>\n",
       "    <tr>\n",
       "      <th>4</th>\n",
       "      <td>5</td>\n",
       "      <td>WHAT'S THE STORY MORNING GLORY</td>\n",
       "      <td>OASIS</td>\n",
       "      <td>1995</td>\n",
       "      <td>1</td>\n",
       "    </tr>\n",
       "  </tbody>\n",
       "</table>\n",
       "</div>"
      ],
      "text/plain": [
       "   POS                                 TITLE   ARTIST  YEAR  HIGH POSN\n",
       "0    1                         GREATEST HITS    QUEEN  1981          1\n",
       "1    2                  GOLD - GREATEST HITS     ABBA  1992          1\n",
       "2    3  SGT PEPPER'S LONELY HEARTS CLUB BAND  BEATLES  1967          1\n",
       "3    4                                    21    ADELE  2011          1\n",
       "4    5        WHAT'S THE STORY MORNING GLORY    OASIS  1995          1"
      ]
     },
     "execution_count": 10,
     "metadata": {},
     "output_type": "execute_result"
    }
   ],
   "source": [
    "import pandas as pd\n",
    "data = pd.read_html('https://www.officialcharts.com/chart-news/the-best-selling-albums-of-all-time-on-the-official-uk-chart__15551', header=0)\n",
    "df = data[0]  # zakładamy, że to pierwsza tabela, ale warto sprawdzić\n",
    "df.head()"
   ]
  },
  {
   "cell_type": "code",
   "execution_count": 12,
   "id": "dbb142b9-9f74-44f0-87b2-5522b86d5fcc",
   "metadata": {},
   "outputs": [
    {
     "data": {
      "text/html": [
       "<div>\n",
       "<style scoped>\n",
       "    .dataframe tbody tr th:only-of-type {\n",
       "        vertical-align: middle;\n",
       "    }\n",
       "\n",
       "    .dataframe tbody tr th {\n",
       "        vertical-align: top;\n",
       "    }\n",
       "\n",
       "    .dataframe thead th {\n",
       "        text-align: right;\n",
       "    }\n",
       "</style>\n",
       "<table border=\"1\" class=\"dataframe\">\n",
       "  <thead>\n",
       "    <tr style=\"text-align: right;\">\n",
       "      <th></th>\n",
       "      <th>POS</th>\n",
       "      <th>TYTUŁ</th>\n",
       "      <th>ARTYSTA</th>\n",
       "      <th>ROK</th>\n",
       "      <th>MAX POZ</th>\n",
       "    </tr>\n",
       "  </thead>\n",
       "  <tbody>\n",
       "    <tr>\n",
       "      <th>0</th>\n",
       "      <td>1</td>\n",
       "      <td>GREATEST HITS</td>\n",
       "      <td>QUEEN</td>\n",
       "      <td>1981</td>\n",
       "      <td>1</td>\n",
       "    </tr>\n",
       "    <tr>\n",
       "      <th>1</th>\n",
       "      <td>2</td>\n",
       "      <td>GOLD - GREATEST HITS</td>\n",
       "      <td>ABBA</td>\n",
       "      <td>1992</td>\n",
       "      <td>1</td>\n",
       "    </tr>\n",
       "    <tr>\n",
       "      <th>2</th>\n",
       "      <td>3</td>\n",
       "      <td>SGT PEPPER'S LONELY HEARTS CLUB BAND</td>\n",
       "      <td>BEATLES</td>\n",
       "      <td>1967</td>\n",
       "      <td>1</td>\n",
       "    </tr>\n",
       "    <tr>\n",
       "      <th>3</th>\n",
       "      <td>4</td>\n",
       "      <td>21</td>\n",
       "      <td>ADELE</td>\n",
       "      <td>2011</td>\n",
       "      <td>1</td>\n",
       "    </tr>\n",
       "    <tr>\n",
       "      <th>4</th>\n",
       "      <td>5</td>\n",
       "      <td>WHAT'S THE STORY MORNING GLORY</td>\n",
       "      <td>OASIS</td>\n",
       "      <td>1995</td>\n",
       "      <td>1</td>\n",
       "    </tr>\n",
       "  </tbody>\n",
       "</table>\n",
       "</div>"
      ],
      "text/plain": [
       "   POS                                 TYTUŁ  ARTYSTA   ROK  MAX POZ\n",
       "0    1                         GREATEST HITS    QUEEN  1981        1\n",
       "1    2                  GOLD - GREATEST HITS     ABBA  1992        1\n",
       "2    3  SGT PEPPER'S LONELY HEARTS CLUB BAND  BEATLES  1967        1\n",
       "3    4                                    21    ADELE  2011        1\n",
       "4    5        WHAT'S THE STORY MORNING GLORY    OASIS  1995        1"
      ]
     },
     "execution_count": 12,
     "metadata": {},
     "output_type": "execute_result"
    }
   ],
   "source": [
    "df.rename(columns={'TITLE': 'TYTUŁ', 'ARTIST': 'ARTYSTA', 'YEAR': 'ROK', 'HIGH POSN': 'MAX POZ'}, inplace=True)\n",
    "df.head()"
   ]
  },
  {
   "cell_type": "code",
   "execution_count": 16,
   "id": "cd2d17ee-47d7-4d36-b302-ebafa932dc5c",
   "metadata": {},
   "outputs": [
    {
     "name": "stdout",
     "output_type": "stream",
     "text": [
      "Liczba solowych artystów: 28\n"
     ]
    }
   ],
   "source": [
    "solowi_artysci = df[df['ARTYSTA'].str.split().str.len() == 2]\n",
    "liczba_solowych_artystow = solowi_artysci['ARTYSTA'].nunique()\n",
    "print(\"Liczba solowych artystów:\", liczba_solowych_artystow)"
   ]
  },
  {
   "cell_type": "markdown",
   "id": "24fe4f3c-935e-4b6c-a726-2a6f89626243",
   "metadata": {},
   "source": [
    "Odp 2.Na liście znajduje się 28 pojedyńczych artystów"
   ]
  },
  {
   "cell_type": "code",
   "execution_count": 18,
   "id": "2d8b60cf-4213-487d-8a79-6ce36a75e3c5",
   "metadata": {},
   "outputs": [
    {
     "name": "stdout",
     "output_type": "stream",
     "text": [
      "Zespoły pojawiające się najczęściej na liście:\n",
      "ARTYSTA\n",
      "COLDPLAY               3\n",
      "TAKE THAT              3\n",
      "FLEETWOOD MAC          2\n",
      "ABBA                   2\n",
      "DIDO                   2\n",
      "ORIGINAL SOUNDTRACK    2\n",
      "QUEEN                  2\n",
      "ROBBIE WILLIAMS        2\n",
      "BEATLES                2\n",
      "MICHAEL JACKSON        2\n",
      "ADELE                  2\n",
      "Name: count, dtype: int64\n"
     ]
    }
   ],
   "source": [
    "czestosc_zespolow = df['ARTYSTA'].value_counts()\n",
    "czesto_wystepujace_zespoly = czestosc_zespolow[czestosc_zespolow > 1]\n",
    "print(\"Zespoły pojawiające się najczęściej na liście:\")\n",
    "print(czesto_wystepujace_zespoly)\n"
   ]
  },
  {
   "cell_type": "code",
   "execution_count": null,
   "id": "de6f438e-7daa-4735-8f1d-f0e4b72433d1",
   "metadata": {},
   "outputs": [],
   "source": [
    "Odp 3.Zespołami które pojawiają się najczęściej na liście są : COLDPLAY i TAKE THAT"
   ]
  },
  {
   "cell_type": "code",
   "execution_count": 20,
   "id": "b2976588-9bf9-4307-a705-60e865458a95",
   "metadata": {},
   "outputs": [
    {
     "data": {
      "text/html": [
       "<div>\n",
       "<style scoped>\n",
       "    .dataframe tbody tr th:only-of-type {\n",
       "        vertical-align: middle;\n",
       "    }\n",
       "\n",
       "    .dataframe tbody tr th {\n",
       "        vertical-align: top;\n",
       "    }\n",
       "\n",
       "    .dataframe thead th {\n",
       "        text-align: right;\n",
       "    }\n",
       "</style>\n",
       "<table border=\"1\" class=\"dataframe\">\n",
       "  <thead>\n",
       "    <tr style=\"text-align: right;\">\n",
       "      <th></th>\n",
       "      <th>Pos</th>\n",
       "      <th>Tytuł</th>\n",
       "      <th>Artysta</th>\n",
       "      <th>Rok</th>\n",
       "      <th>Max Poz</th>\n",
       "    </tr>\n",
       "  </thead>\n",
       "  <tbody>\n",
       "    <tr>\n",
       "      <th>0</th>\n",
       "      <td>1</td>\n",
       "      <td>GREATEST HITS</td>\n",
       "      <td>QUEEN</td>\n",
       "      <td>1981</td>\n",
       "      <td>1</td>\n",
       "    </tr>\n",
       "    <tr>\n",
       "      <th>1</th>\n",
       "      <td>2</td>\n",
       "      <td>GOLD - GREATEST HITS</td>\n",
       "      <td>ABBA</td>\n",
       "      <td>1992</td>\n",
       "      <td>1</td>\n",
       "    </tr>\n",
       "    <tr>\n",
       "      <th>2</th>\n",
       "      <td>3</td>\n",
       "      <td>SGT PEPPER'S LONELY HEARTS CLUB BAND</td>\n",
       "      <td>BEATLES</td>\n",
       "      <td>1967</td>\n",
       "      <td>1</td>\n",
       "    </tr>\n",
       "    <tr>\n",
       "      <th>3</th>\n",
       "      <td>4</td>\n",
       "      <td>21</td>\n",
       "      <td>ADELE</td>\n",
       "      <td>2011</td>\n",
       "      <td>1</td>\n",
       "    </tr>\n",
       "    <tr>\n",
       "      <th>4</th>\n",
       "      <td>5</td>\n",
       "      <td>WHAT'S THE STORY MORNING GLORY</td>\n",
       "      <td>OASIS</td>\n",
       "      <td>1995</td>\n",
       "      <td>1</td>\n",
       "    </tr>\n",
       "  </tbody>\n",
       "</table>\n",
       "</div>"
      ],
      "text/plain": [
       "   Pos                                 Tytuł  Artysta   Rok  Max Poz\n",
       "0    1                         GREATEST HITS    QUEEN  1981        1\n",
       "1    2                  GOLD - GREATEST HITS     ABBA  1992        1\n",
       "2    3  SGT PEPPER'S LONELY HEARTS CLUB BAND  BEATLES  1967        1\n",
       "3    4                                    21    ADELE  2011        1\n",
       "4    5        WHAT'S THE STORY MORNING GLORY    OASIS  1995        1"
      ]
     },
     "execution_count": 20,
     "metadata": {},
     "output_type": "execute_result"
    }
   ],
   "source": [
    "df.columns = df.columns.str.title()\n",
    "df.head()\n"
   ]
  },
  {
   "cell_type": "code",
   "execution_count": 22,
   "id": "22ec4183-73d8-4809-9cd8-29dce16b0ee9",
   "metadata": {},
   "outputs": [
    {
     "data": {
      "text/html": [
       "<div>\n",
       "<style scoped>\n",
       "    .dataframe tbody tr th:only-of-type {\n",
       "        vertical-align: middle;\n",
       "    }\n",
       "\n",
       "    .dataframe tbody tr th {\n",
       "        vertical-align: top;\n",
       "    }\n",
       "\n",
       "    .dataframe thead th {\n",
       "        text-align: right;\n",
       "    }\n",
       "</style>\n",
       "<table border=\"1\" class=\"dataframe\">\n",
       "  <thead>\n",
       "    <tr style=\"text-align: right;\">\n",
       "      <th></th>\n",
       "      <th>Pos</th>\n",
       "      <th>Tytuł</th>\n",
       "      <th>Artysta</th>\n",
       "      <th>Rok</th>\n",
       "    </tr>\n",
       "  </thead>\n",
       "  <tbody>\n",
       "    <tr>\n",
       "      <th>0</th>\n",
       "      <td>1</td>\n",
       "      <td>GREATEST HITS</td>\n",
       "      <td>QUEEN</td>\n",
       "      <td>1981</td>\n",
       "    </tr>\n",
       "    <tr>\n",
       "      <th>1</th>\n",
       "      <td>2</td>\n",
       "      <td>GOLD - GREATEST HITS</td>\n",
       "      <td>ABBA</td>\n",
       "      <td>1992</td>\n",
       "    </tr>\n",
       "    <tr>\n",
       "      <th>2</th>\n",
       "      <td>3</td>\n",
       "      <td>SGT PEPPER'S LONELY HEARTS CLUB BAND</td>\n",
       "      <td>BEATLES</td>\n",
       "      <td>1967</td>\n",
       "    </tr>\n",
       "    <tr>\n",
       "      <th>3</th>\n",
       "      <td>4</td>\n",
       "      <td>21</td>\n",
       "      <td>ADELE</td>\n",
       "      <td>2011</td>\n",
       "    </tr>\n",
       "    <tr>\n",
       "      <th>4</th>\n",
       "      <td>5</td>\n",
       "      <td>WHAT'S THE STORY MORNING GLORY</td>\n",
       "      <td>OASIS</td>\n",
       "      <td>1995</td>\n",
       "    </tr>\n",
       "  </tbody>\n",
       "</table>\n",
       "</div>"
      ],
      "text/plain": [
       "   Pos                                 Tytuł  Artysta   Rok\n",
       "0    1                         GREATEST HITS    QUEEN  1981\n",
       "1    2                  GOLD - GREATEST HITS     ABBA  1992\n",
       "2    3  SGT PEPPER'S LONELY HEARTS CLUB BAND  BEATLES  1967\n",
       "3    4                                    21    ADELE  2011\n",
       "4    5        WHAT'S THE STORY MORNING GLORY    OASIS  1995"
      ]
     },
     "execution_count": 22,
     "metadata": {},
     "output_type": "execute_result"
    }
   ],
   "source": [
    "df.drop(columns=['Max Poz'], inplace=True)\n",
    "df.head()\n"
   ]
  },
  {
   "cell_type": "code",
   "execution_count": 24,
   "id": "7ddf7980-1787-464d-9b10-6d026de67d09",
   "metadata": {},
   "outputs": [
    {
     "name": "stdout",
     "output_type": "stream",
     "text": [
      "Najwięcej albumów wyszło w roku 2000, liczba albumów: 4\n"
     ]
    }
   ],
   "source": [
    "najczestszy_rok = df['Rok'].value_counts().idxmax()\n",
    "liczba_albumow = df['Rok'].value_counts().max()\n",
    "print(f\"Najwięcej albumów wyszło w roku {najczestszy_rok}, liczba albumów: {liczba_albumow}\")\n"
   ]
  },
  {
   "cell_type": "markdown",
   "id": "bad6b7ae-bd27-4a97-be9a-4a4cc25fb1ca",
   "metadata": {},
   "source": [
    "Odp 6.W 2000 roku wyszło najwięcej albumów, aż 4."
   ]
  },
  {
   "cell_type": "code",
   "execution_count": 26,
   "id": "c1ae6969-453d-430e-bcf8-f8c07a2d40a2",
   "metadata": {},
   "outputs": [
    {
     "name": "stdout",
     "output_type": "stream",
     "text": [
      "Liczba albumów wydanych między 1960 a 1990 rokiem włącznie: 22\n"
     ]
    }
   ],
   "source": [
    "albumy_1960_1990 = df[(df['Rok'] >= 1960) & (df['Rok'] <= 1990)]\n",
    "liczba_albumow = albumy_1960_1990.shape[0]\n",
    "print(\"Liczba albumów wydanych między 1960 a 1990 rokiem włącznie:\", liczba_albumow)\n"
   ]
  },
  {
   "cell_type": "markdown",
   "id": "73d3e2c8-fd03-4623-8976-c7897dcf17c0",
   "metadata": {},
   "source": [
    "Odp 7. na liście jest zamieszczonych 22 albumy, które zostały wydane w latach  1960 a 1990(włącznie)"
   ]
  },
  {
   "cell_type": "code",
   "execution_count": 28,
   "id": "a5b0d010-2425-404b-b9db-8b654b4aaac5",
   "metadata": {},
   "outputs": [
    {
     "name": "stdout",
     "output_type": "stream",
     "text": [
      "Najmłodszy album na liście został wydany w roku: 2015\n"
     ]
    }
   ],
   "source": [
    "najmlodszy_rok = df['Rok'].max()\n",
    "print(\"Najmłodszy album na liście został wydany w roku:\", najmlodszy_rok)\n"
   ]
  },
  {
   "cell_type": "markdown",
   "id": "5f847277-88ad-452c-afdd-8d0552c3533b",
   "metadata": {},
   "source": [
    "Odp 8. W 2015r został wydany najmłodszy album na świecie"
   ]
  },
  {
   "cell_type": "code",
   "execution_count": 30,
   "id": "da8b603a-b0a0-4191-9f29-1aa6322d0a04",
   "metadata": {},
   "outputs": [
    {
     "data": {
      "text/html": [
       "<div>\n",
       "<style scoped>\n",
       "    .dataframe tbody tr th:only-of-type {\n",
       "        vertical-align: middle;\n",
       "    }\n",
       "\n",
       "    .dataframe tbody tr th {\n",
       "        vertical-align: top;\n",
       "    }\n",
       "\n",
       "    .dataframe thead th {\n",
       "        text-align: right;\n",
       "    }\n",
       "</style>\n",
       "<table border=\"1\" class=\"dataframe\">\n",
       "  <thead>\n",
       "    <tr style=\"text-align: right;\">\n",
       "      <th></th>\n",
       "      <th>Pos</th>\n",
       "      <th>Tytuł</th>\n",
       "      <th>Artysta</th>\n",
       "      <th>Rok</th>\n",
       "    </tr>\n",
       "  </thead>\n",
       "  <tbody>\n",
       "    <tr>\n",
       "      <th>51</th>\n",
       "      <td>52</td>\n",
       "      <td>THE SOUND OF MUSIC</td>\n",
       "      <td>ORIGINAL CAST RECORDING</td>\n",
       "      <td>1965</td>\n",
       "    </tr>\n",
       "    <tr>\n",
       "      <th>2</th>\n",
       "      <td>3</td>\n",
       "      <td>SGT PEPPER'S LONELY HEARTS CLUB BAND</td>\n",
       "      <td>BEATLES</td>\n",
       "      <td>1967</td>\n",
       "    </tr>\n",
       "    <tr>\n",
       "      <th>20</th>\n",
       "      <td>21</td>\n",
       "      <td>BRIDGE OVER TROUBLED WATER</td>\n",
       "      <td>SIMON &amp; GARFUNKEL</td>\n",
       "      <td>1970</td>\n",
       "    </tr>\n",
       "    <tr>\n",
       "      <th>6</th>\n",
       "      <td>7</td>\n",
       "      <td>THE DARK SIDE OF THE MOON</td>\n",
       "      <td>PINK FLOYD</td>\n",
       "      <td>1973</td>\n",
       "    </tr>\n",
       "    <tr>\n",
       "      <th>41</th>\n",
       "      <td>42</td>\n",
       "      <td>TUBULAR BELLS</td>\n",
       "      <td>MIKE OLDFIELD</td>\n",
       "      <td>1973</td>\n",
       "    </tr>\n",
       "  </tbody>\n",
       "</table>\n",
       "</div>"
      ],
      "text/plain": [
       "    Pos                                 Tytuł                  Artysta   Rok\n",
       "51   52                    THE SOUND OF MUSIC  ORIGINAL CAST RECORDING  1965\n",
       "2     3  SGT PEPPER'S LONELY HEARTS CLUB BAND                  BEATLES  1967\n",
       "20   21            BRIDGE OVER TROUBLED WATER        SIMON & GARFUNKEL  1970\n",
       "6     7             THE DARK SIDE OF THE MOON               PINK FLOYD  1973\n",
       "41   42                         TUBULAR BELLS            MIKE OLDFIELD  1973"
      ]
     },
     "execution_count": 30,
     "metadata": {},
     "output_type": "execute_result"
    }
   ],
   "source": [
    "najwczesniejsze_albumy = df.sort_values('Rok').drop_duplicates(subset='Artysta', keep='first')\n",
    "najwczesniejsze_albumy.head()\n"
   ]
  },
  {
   "cell_type": "code",
   "execution_count": 36,
   "id": "a4c05de3-cd53-4967-a8f6-3102acdf5dc2",
   "metadata": {},
   "outputs": [
    {
     "name": "stdout",
     "output_type": "stream",
     "text": [
      "Plik 'najwczesniejsze_albumy.csv' został zapisany pomyślnie.\n"
     ]
    }
   ],
   "source": [
    "najwczesniejsze_albumy.to_csv('najwczesniejsze_albumy.csv', index=False)\n",
    "print(\"Plik 'najwczesniejsze_albumy.csv' został zapisany pomyślnie.\")"
   ]
  },
  {
   "cell_type": "code",
   "execution_count": null,
   "id": "1600756c-517d-4543-9fc5-a16f189abb53",
   "metadata": {},
   "outputs": [],
   "source": []
  }
 ],
 "metadata": {
  "kernelspec": {
   "display_name": "Python 3 (ipykernel)",
   "language": "python",
   "name": "python3"
  },
  "language_info": {
   "codemirror_mode": {
    "name": "ipython",
    "version": 3
   },
   "file_extension": ".py",
   "mimetype": "text/x-python",
   "name": "python",
   "nbconvert_exporter": "python",
   "pygments_lexer": "ipython3",
   "version": "3.12.4"
  }
 },
 "nbformat": 4,
 "nbformat_minor": 5
}
